{
 "cells": [
  {
   "cell_type": "code",
   "execution_count": 1,
   "metadata": {
    "collapsed": true
   },
   "outputs": [],
   "source": [
    "#This Script will pull tags for reason of closed lead as well as the date it happened"
   ]
  },
  {
   "cell_type": "code",
   "execution_count": 2,
   "metadata": {
    "collapsed": true
   },
   "outputs": [],
   "source": [
    "#Dependecies \n",
    "import pandas as pd\n",
    "import numpy as np\n",
    "import sys"
   ]
  },
  {
   "cell_type": "code",
   "execution_count": 4,
   "metadata": {
    "collapsed": true
   },
   "outputs": [],
   "source": [
    "#Load File\n",
    "CloseTag= \"../raw_data/UTNewTagIDTest.csv\"\n",
    "\n",
    "output = \"../output_files/\""
   ]
  },
  {
   "cell_type": "code",
   "execution_count": null,
   "metadata": {
    "collapsed": false
   },
   "outputs": [],
   "source": []
  },
  {
   "cell_type": "code",
   "execution_count": 7,
   "metadata": {
    "collapsed": false
   },
   "outputs": [
    {
     "data": {
      "text/html": [
       "<div>\n",
       "<table border=\"1\" class=\"dataframe\">\n",
       "  <thead>\n",
       "    <tr style=\"text-align: right;\">\n",
       "      <th></th>\n",
       "      <th>cga Contact Id</th>\n",
       "      <th>Contact Id</th>\n",
       "      <th>Contact Group Id</th>\n",
       "      <th>cga Group Id</th>\n",
       "      <th>Tag</th>\n",
       "      <th>Date Applied</th>\n",
       "      <th>Contact First Name</th>\n",
       "      <th>Contact Last Name</th>\n",
       "    </tr>\n",
       "  </thead>\n",
       "  <tbody>\n",
       "    <tr>\n",
       "      <th>0</th>\n",
       "      <td>56</td>\n",
       "      <td>56</td>\n",
       "      <td>103</td>\n",
       "      <td>103</td>\n",
       "      <td>New Lead</td>\n",
       "      <td>9/23/16</td>\n",
       "      <td>Colelita</td>\n",
       "      <td>Jones</td>\n",
       "    </tr>\n",
       "    <tr>\n",
       "      <th>1</th>\n",
       "      <td>56</td>\n",
       "      <td>56</td>\n",
       "      <td>119</td>\n",
       "      <td>119</td>\n",
       "      <td>Attempted Contact</td>\n",
       "      <td>9/23/16</td>\n",
       "      <td>Colelita</td>\n",
       "      <td>Jones</td>\n",
       "    </tr>\n",
       "    <tr>\n",
       "      <th>2</th>\n",
       "      <td>56</td>\n",
       "      <td>56</td>\n",
       "      <td>131</td>\n",
       "      <td>131</td>\n",
       "      <td>Home Top</td>\n",
       "      <td>1/22/16</td>\n",
       "      <td>Colelita</td>\n",
       "      <td>Jones</td>\n",
       "    </tr>\n",
       "    <tr>\n",
       "      <th>3</th>\n",
       "      <td>56</td>\n",
       "      <td>56</td>\n",
       "      <td>141</td>\n",
       "      <td>141</td>\n",
       "      <td>Pending Enrollment</td>\n",
       "      <td>9/23/16</td>\n",
       "      <td>Colelita</td>\n",
       "      <td>Jones</td>\n",
       "    </tr>\n",
       "    <tr>\n",
       "      <th>4</th>\n",
       "      <td>56</td>\n",
       "      <td>56</td>\n",
       "      <td>153</td>\n",
       "      <td>153</td>\n",
       "      <td>Too Expensive</td>\n",
       "      <td>10/15/16</td>\n",
       "      <td>Colelita</td>\n",
       "      <td>Jones</td>\n",
       "    </tr>\n",
       "  </tbody>\n",
       "</table>\n",
       "</div>"
      ],
      "text/plain": [
       "   cga Contact Id  Contact Id  Contact Group Id  cga Group Id  \\\n",
       "0              56          56               103           103   \n",
       "1              56          56               119           119   \n",
       "2              56          56               131           131   \n",
       "3              56          56               141           141   \n",
       "4              56          56               153           153   \n",
       "\n",
       "                  Tag Date Applied Contact First Name Contact Last Name  \n",
       "0            New Lead      9/23/16           Colelita             Jones  \n",
       "1   Attempted Contact      9/23/16           Colelita             Jones  \n",
       "2            Home Top      1/22/16           Colelita             Jones  \n",
       "3  Pending Enrollment      9/23/16           Colelita             Jones  \n",
       "4       Too Expensive     10/15/16           Colelita             Jones  "
      ]
     },
     "execution_count": 7,
     "metadata": {},
     "output_type": "execute_result"
    }
   ],
   "source": [
    "#open and read with\n",
    "CloseTag_pd= pd.read_csv(CloseTag, encoding = \"ISO-8859-1\")\n",
    "CloseTag_pd.head()"
   ]
  },
  {
   "cell_type": "code",
   "execution_count": 9,
   "metadata": {
    "collapsed": false
   },
   "outputs": [
    {
     "data": {
      "text/html": [
       "<div>\n",
       "<table border=\"1\" class=\"dataframe\">\n",
       "  <thead>\n",
       "    <tr style=\"text-align: right;\">\n",
       "      <th></th>\n",
       "      <th>cga Contact Id</th>\n",
       "      <th>Contact Id</th>\n",
       "      <th>Contact Group Id</th>\n",
       "      <th>cga Group Id</th>\n",
       "      <th>Tag</th>\n",
       "      <th>Date Applied</th>\n",
       "      <th>Contact First Name</th>\n",
       "      <th>Contact Last Name</th>\n",
       "    </tr>\n",
       "  </thead>\n",
       "  <tbody>\n",
       "    <tr>\n",
       "      <th>4</th>\n",
       "      <td>56</td>\n",
       "      <td>56</td>\n",
       "      <td>153</td>\n",
       "      <td>153</td>\n",
       "      <td>Too Expensive</td>\n",
       "      <td>10/15/16</td>\n",
       "      <td>Colelita</td>\n",
       "      <td>Jones</td>\n",
       "    </tr>\n",
       "    <tr>\n",
       "      <th>7</th>\n",
       "      <td>56</td>\n",
       "      <td>56</td>\n",
       "      <td>219</td>\n",
       "      <td>219</td>\n",
       "      <td>Failed Coding Test</td>\n",
       "      <td>9/23/16</td>\n",
       "      <td>Colelita</td>\n",
       "      <td>Jones</td>\n",
       "    </tr>\n",
       "    <tr>\n",
       "      <th>28</th>\n",
       "      <td>71</td>\n",
       "      <td>71</td>\n",
       "      <td>133</td>\n",
       "      <td>133</td>\n",
       "      <td>Future Interest</td>\n",
       "      <td>2/12/16</td>\n",
       "      <td>Stan</td>\n",
       "      <td>Ellis</td>\n",
       "    </tr>\n",
       "    <tr>\n",
       "      <th>85</th>\n",
       "      <td>91</td>\n",
       "      <td>91</td>\n",
       "      <td>213</td>\n",
       "      <td>213</td>\n",
       "      <td>Non-Responsive</td>\n",
       "      <td>4/29/16</td>\n",
       "      <td>Victoria</td>\n",
       "      <td>Holland</td>\n",
       "    </tr>\n",
       "    <tr>\n",
       "      <th>115</th>\n",
       "      <td>101</td>\n",
       "      <td>101</td>\n",
       "      <td>159</td>\n",
       "      <td>159</td>\n",
       "      <td>Chose Another Bootcamp</td>\n",
       "      <td>4/7/16</td>\n",
       "      <td>Cameron</td>\n",
       "      <td>Mott</td>\n",
       "    </tr>\n",
       "  </tbody>\n",
       "</table>\n",
       "</div>"
      ],
      "text/plain": [
       "     cga Contact Id  Contact Id  Contact Group Id  cga Group Id  \\\n",
       "4                56          56               153           153   \n",
       "7                56          56               219           219   \n",
       "28               71          71               133           133   \n",
       "85               91          91               213           213   \n",
       "115             101         101               159           159   \n",
       "\n",
       "                        Tag Date Applied Contact First Name Contact Last Name  \n",
       "4             Too Expensive     10/15/16           Colelita             Jones  \n",
       "7        Failed Coding Test      9/23/16           Colelita             Jones  \n",
       "28          Future Interest      2/12/16               Stan             Ellis  \n",
       "85           Non-Responsive      4/29/16           Victoria           Holland  \n",
       "115  Chose Another Bootcamp       4/7/16            Cameron              Mott  "
      ]
     },
     "execution_count": 9,
     "metadata": {},
     "output_type": "execute_result"
    }
   ],
   "source": [
    "CloseTagValue = CloseTag_pd.loc[CloseTag_pd['Tag'].isin([\"Out of Area\",\n",
    "                                                                     \"Failed Coding Test\", \n",
    "                                                                     \"Not Qualified\",\n",
    "                                                                     \"Invalid Phone Number and BounceBack Email\",\n",
    "                                                                     \"Test Lead\",\n",
    "                                                                     \"test tag\",\n",
    "                                                                     \"TEST TAG\",\n",
    "                                                                     \"testing\"\n",
    "                                                                     \"Looking for Student Visa\",\n",
    "                                                                     'Non-Responsive',\n",
    "                                                                     \"Future Interest\",\n",
    "                                                                     \"future\"\n",
    "                                                                     \"Not Enough Time\",\n",
    "                                                                     \"Test Lead\",\n",
    "                                                                     \"Cannot Do Class Times\",\n",
    "                                                                     \"Cannot do class times\",\n",
    "                                                                     \"Student Declined\",\n",
    "                                                                     \"Chose Another Bootcamp\",\n",
    "                                                                     \"Too Expensive\",\n",
    "                                                                     \"no longer interested / price\",\n",
    "                                                                     \"Loan Declined\"\n",
    "                                                                     \"Not Interested in Coding\",\n",
    "                                                                     \"Application Declined\",\n",
    "                                                                     \"No Payment Plans Available\",\n",
    "                                                                     \"Program Too Long\",\n",
    "                                                                     \"No Instructor in place yet\",\n",
    "                                                                     \"Doesn't want to apply for loan\",\n",
    "                                                                     \"Current Student\"\n",
    "                                                                    ])]\n",
    "CloseTagValue.head()"
   ]
  },
  {
   "cell_type": "code",
   "execution_count": 11,
   "metadata": {
    "collapsed": false
   },
   "outputs": [
    {
     "data": {
      "text/html": [
       "<div>\n",
       "<table border=\"1\" class=\"dataframe\">\n",
       "  <thead>\n",
       "    <tr style=\"text-align: right;\">\n",
       "      <th></th>\n",
       "      <th>Contact Id</th>\n",
       "      <th>Tag</th>\n",
       "      <th>Date Applied</th>\n",
       "    </tr>\n",
       "  </thead>\n",
       "  <tbody>\n",
       "    <tr>\n",
       "      <th>4</th>\n",
       "      <td>56</td>\n",
       "      <td>Too Expensive</td>\n",
       "      <td>10/15/16</td>\n",
       "    </tr>\n",
       "    <tr>\n",
       "      <th>7</th>\n",
       "      <td>56</td>\n",
       "      <td>Failed Coding Test</td>\n",
       "      <td>9/23/16</td>\n",
       "    </tr>\n",
       "    <tr>\n",
       "      <th>28</th>\n",
       "      <td>71</td>\n",
       "      <td>Future Interest</td>\n",
       "      <td>2/12/16</td>\n",
       "    </tr>\n",
       "    <tr>\n",
       "      <th>85</th>\n",
       "      <td>91</td>\n",
       "      <td>Non-Responsive</td>\n",
       "      <td>4/29/16</td>\n",
       "    </tr>\n",
       "    <tr>\n",
       "      <th>115</th>\n",
       "      <td>101</td>\n",
       "      <td>Chose Another Bootcamp</td>\n",
       "      <td>4/7/16</td>\n",
       "    </tr>\n",
       "  </tbody>\n",
       "</table>\n",
       "</div>"
      ],
      "text/plain": [
       "     Contact Id                     Tag Date Applied\n",
       "4            56           Too Expensive     10/15/16\n",
       "7            56      Failed Coding Test      9/23/16\n",
       "28           71         Future Interest      2/12/16\n",
       "85           91          Non-Responsive      4/29/16\n",
       "115         101  Chose Another Bootcamp       4/7/16"
      ]
     },
     "execution_count": 11,
     "metadata": {},
     "output_type": "execute_result"
    }
   ],
   "source": [
    "#Filter for only what we need in the tag file\n",
    "CloseTagFiltered= CloseTagValue.filter([\"Contact Id\", \"Tag\", \"Date Applied\"])\n",
    "CloseTagFiltered.head()"
   ]
  },
  {
   "cell_type": "code",
   "execution_count": 12,
   "metadata": {
    "collapsed": false
   },
   "outputs": [
    {
     "data": {
      "text/html": [
       "<div>\n",
       "<table border=\"1\" class=\"dataframe\">\n",
       "  <thead>\n",
       "    <tr style=\"text-align: right;\">\n",
       "      <th></th>\n",
       "      <th>Tag</th>\n",
       "      <th>Date Applied</th>\n",
       "    </tr>\n",
       "    <tr>\n",
       "      <th>Contact Id</th>\n",
       "      <th></th>\n",
       "      <th></th>\n",
       "    </tr>\n",
       "  </thead>\n",
       "  <tbody>\n",
       "    <tr>\n",
       "      <th>56</th>\n",
       "      <td>Too Expensive,Failed Coding Test</td>\n",
       "      <td>10/15/16,9/23/16</td>\n",
       "    </tr>\n",
       "    <tr>\n",
       "      <th>71</th>\n",
       "      <td>Future Interest</td>\n",
       "      <td>2/12/16</td>\n",
       "    </tr>\n",
       "    <tr>\n",
       "      <th>91</th>\n",
       "      <td>Non-Responsive</td>\n",
       "      <td>4/29/16</td>\n",
       "    </tr>\n",
       "    <tr>\n",
       "      <th>101</th>\n",
       "      <td>Chose Another Bootcamp</td>\n",
       "      <td>4/7/16</td>\n",
       "    </tr>\n",
       "    <tr>\n",
       "      <th>107</th>\n",
       "      <td>Non-Responsive</td>\n",
       "      <td>5/4/16</td>\n",
       "    </tr>\n",
       "  </tbody>\n",
       "</table>\n",
       "</div>"
      ],
      "text/plain": [
       "                                         Tag      Date Applied\n",
       "Contact Id                                                    \n",
       "56          Too Expensive,Failed Coding Test  10/15/16,9/23/16\n",
       "71                           Future Interest           2/12/16\n",
       "91                            Non-Responsive           4/29/16\n",
       "101                   Chose Another Bootcamp            4/7/16\n",
       "107                           Non-Responsive            5/4/16"
      ]
     },
     "execution_count": 12,
     "metadata": {},
     "output_type": "execute_result"
    }
   ],
   "source": [
    "#Merge rwo multiple dates applied\n",
    "TagRowMerge = CloseTagFiltered.groupby(\"Contact Id\").agg(lambda x:','.join(x))\n",
    "TagRowMerge.head()"
   ]
  },
  {
   "cell_type": "code",
   "execution_count": 14,
   "metadata": {
    "collapsed": false
   },
   "outputs": [],
   "source": [
    "#Send out for manual clean (Rename count Id to Account ID) don't rename yet\n",
    "TagRowMerge.to_csv(output + \"DateReasonCloseUncleaned.csv\")"
   ]
  },
  {
   "cell_type": "code",
   "execution_count": 16,
   "metadata": {
    "collapsed": false
   },
   "outputs": [
    {
     "data": {
      "text/html": [
       "<div>\n",
       "<table border=\"1\" class=\"dataframe\">\n",
       "  <thead>\n",
       "    <tr style=\"text-align: right;\">\n",
       "      <th></th>\n",
       "      <th>Account ID</th>\n",
       "      <th>Tag</th>\n",
       "      <th>Date Applied</th>\n",
       "    </tr>\n",
       "  </thead>\n",
       "  <tbody>\n",
       "    <tr>\n",
       "      <th>0</th>\n",
       "      <td>56</td>\n",
       "      <td>Too Expensive,Failed Coding Test</td>\n",
       "      <td>10/15/16,9/23/16</td>\n",
       "    </tr>\n",
       "    <tr>\n",
       "      <th>1</th>\n",
       "      <td>71</td>\n",
       "      <td>Future Interest</td>\n",
       "      <td>2/12/2016</td>\n",
       "    </tr>\n",
       "    <tr>\n",
       "      <th>2</th>\n",
       "      <td>91</td>\n",
       "      <td>Non-Responsive</td>\n",
       "      <td>4/29/2016</td>\n",
       "    </tr>\n",
       "    <tr>\n",
       "      <th>3</th>\n",
       "      <td>101</td>\n",
       "      <td>Chose Another Bootcamp</td>\n",
       "      <td>4/7/2016</td>\n",
       "    </tr>\n",
       "    <tr>\n",
       "      <th>4</th>\n",
       "      <td>107</td>\n",
       "      <td>Non-Responsive</td>\n",
       "      <td>5/4/2016</td>\n",
       "    </tr>\n",
       "  </tbody>\n",
       "</table>\n",
       "</div>"
      ],
      "text/plain": [
       "   Account ID                               Tag      Date Applied\n",
       "0          56  Too Expensive,Failed Coding Test  10/15/16,9/23/16\n",
       "1          71                   Future Interest         2/12/2016\n",
       "2          91                    Non-Responsive         4/29/2016\n",
       "3         101            Chose Another Bootcamp          4/7/2016\n",
       "4         107                    Non-Responsive          5/4/2016"
      ]
     },
     "execution_count": 16,
     "metadata": {},
     "output_type": "execute_result"
    }
   ],
   "source": [
    "#Bring Back in after clean to check\n",
    "ClosedTagCleaned = pd.read_csv(output + \"DateReasonCloseCleaned.csv\" )\n",
    "ClosedTagCleaned.head()"
   ]
  },
  {
   "cell_type": "code",
   "execution_count": null,
   "metadata": {
    "collapsed": true
   },
   "outputs": [],
   "source": []
  }
 ],
 "metadata": {
  "anaconda-cloud": {},
  "kernelspec": {
   "display_name": "Python [conda root]",
   "language": "python",
   "name": "conda-root-py"
  },
  "language_info": {
   "codemirror_mode": {
    "name": "ipython",
    "version": 3
   },
   "file_extension": ".py",
   "mimetype": "text/x-python",
   "name": "python",
   "nbconvert_exporter": "python",
   "pygments_lexer": "ipython3",
   "version": "3.5.2"
  }
 },
 "nbformat": 4,
 "nbformat_minor": 1
}
